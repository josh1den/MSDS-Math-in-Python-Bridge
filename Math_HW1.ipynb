{
  "nbformat": 4,
  "nbformat_minor": 0,
  "metadata": {
    "colab": {
      "name": "Math HW1.ipynb",
      "provenance": [],
      "mount_file_id": "1_HyiyN-U5ChxPWQRBQ7c77i6w8lMhvEU",
      "authorship_tag": "ABX9TyMTIVqUGxGfw/0i66pZXiBe",
      "include_colab_link": true
    },
    "kernelspec": {
      "name": "python3",
      "display_name": "Python 3"
    },
    "language_info": {
      "name": "python"
    }
  },
  "cells": [
    {
      "cell_type": "markdown",
      "metadata": {
        "id": "view-in-github",
        "colab_type": "text"
      },
      "source": [
        "<a href=\"https://colab.research.google.com/github/josh1den/MSDS-Math-in-Python-Bridge/blob/main/Math_HW1.ipynb\" target=\"_parent\"><img src=\"https://colab.research.google.com/assets/colab-badge.svg\" alt=\"Open In Colab\"/></a>"
      ]
    },
    {
      "cell_type": "markdown",
      "source": [
        "---\n",
        "#####**Programming Challenge 1: Even-Odd Vending Machine**\n",
        "---\n",
        "\n",
        "\n"
      ],
      "metadata": {
        "id": "-vb0DK4QoeDl"
      }
    },
    {
      "cell_type": "markdown",
      "source": [
        "Try writing an \"even-odd vending machine\", which will take a number as input and do two things:\n",
        "\n",
        "1. Print whether the number is even or odd\n",
        "2. Display the number followed by the next 9 even or odd numbers \n",
        "\n",
        "Your program should use the *is_integer()* method to display an error message if the input is a number with significant digits beyond the decimal point."
      ],
      "metadata": {
        "id": "o2D_wnaoqFj5"
      }
    },
    {
      "cell_type": "code",
      "source": [
        "def vending(x):\n",
        "    '''takes an int and prints even or odd'''\n",
        "    '''prints the following 9 even or odd numbers'''\n",
        "\n",
        "    try: # check for number\n",
        "      x = float(x)\n",
        "      x.is_integer() == True\n",
        "      x = int(x)\n",
        "\n",
        "      count = 0 # initialize count\n",
        "      list = [x] # initialize list with x value\n",
        "      if x % 2 == 0:\n",
        "          while count < 9:\n",
        "              list.append(x+2)\n",
        "              x += 2\n",
        "              count += 1\n",
        "          print(\"The number is even:\")\n",
        "          print(*list, sep=\", \")   \n",
        "      else:\n",
        "          while count < 9:\n",
        "              list.append(x+2)\n",
        "              x += 2\n",
        "              count +=1\n",
        "          print(\"The number is odd:\")\n",
        "          print(*list, sep=\", \")\n",
        "      \n",
        "    except ValueError:\n",
        "      print(\"Invalid entry. Please enter a number\")"
      ],
      "metadata": {
        "id": "YMjC6J0Homse"
      },
      "execution_count": 81,
      "outputs": []
    },
    {
      "cell_type": "code",
      "source": [
        "vending(2)"
      ],
      "metadata": {
        "colab": {
          "base_uri": "https://localhost:8080/"
        },
        "id": "tVW6ewyFovcm",
        "outputId": "d0978f0a-668f-4c76-fc10-31edc3749ecf"
      },
      "execution_count": 82,
      "outputs": [
        {
          "output_type": "stream",
          "name": "stdout",
          "text": [
            "The number is even:\n",
            "2, 4, 6, 8, 10, 12, 14, 16, 18, 20\n"
          ]
        }
      ]
    },
    {
      "cell_type": "markdown",
      "source": [
        "---\n",
        "#####**Programming Challenge 2: Exploring a Quadratic Function Visually**\n",
        "---\n",
        "\n"
      ],
      "metadata": {
        "id": "lrlVodlUobaU"
      }
    },
    {
      "cell_type": "markdown",
      "source": [
        "Your programming challenge is to enhance this program to create a graph of the function. Try using at least 10 values for x instead of the 6 above. Calculate the corresponding y values using the function and then create a graph using these two sets of values.\n",
        "\n",
        "Once you’ve created the graph, spend some time analyzing how the value of y varies with respect to x. Is the variation linear or nonlinear?"
      ],
      "metadata": {
        "id": "YnBf8AslvcRq"
      }
    },
    {
      "cell_type": "code",
      "source": [
        "# Enhance this program to create a graph of the function using 10 values for x\n",
        "import matplotlib.pyplot as plt\n",
        "\n",
        "# assume values of x\n",
        "x_values = list(range(-5,5))\n",
        "x_values\n",
        "\n",
        "# initialize list of y_values\n",
        "y_values = []\n",
        "\n",
        "for x in x_values:\n",
        "    # calculate the value of the quadratic function\n",
        "    y_values.append(x**2 + 2*x + 1)  \n",
        "    \n",
        "plt.plot(x_values, y_values, marker=\".\")\n",
        "plt.xlabel(\"x\")\n",
        "plt.ylabel(\"y\", rotation=0);"
      ],
      "metadata": {
        "colab": {
          "base_uri": "https://localhost:8080/",
          "height": 279
        },
        "id": "M_Xgw-W7pJEA",
        "outputId": "bc35723d-a1cf-4dd4-d8e6-c6234c1ebc9d"
      },
      "execution_count": 4,
      "outputs": [
        {
          "output_type": "display_data",
          "data": {
            "text/plain": [
              "<Figure size 432x288 with 1 Axes>"
            ],
            "image/png": "[encoded data removed]"
          },
          "metadata": {
            "needs_background": "light"
          }
        }
      ]
    },
    {
      "cell_type": "markdown",
      "source": [
        "> The parabola indicates a nonlinear relationship between x and y"
      ],
      "metadata": {
        "id": "37VxNfWjpUbl"
      }
    },
    {
      "cell_type": "markdown",
      "source": [
        "---\n",
        "#####**Programming Challenge 3: Statistics Calculator**\n",
        "---\n",
        "\n"
      ],
      "metadata": {
        "id": "OJ-KIlidpnkW"
      }
    },
    {
      "cell_type": "markdown",
      "source": [
        "Implement a statistics calculator that takes a list of numbers in the file mydata.txt and then calculates and prints their mean, median, mode, variance, and standard deviation using the functions we wrote earlier in this chapter."
      ],
      "metadata": {
        "id": "1ACxEt3CwjoK"
      }
    },
    {
      "cell_type": "code",
      "source": [
        "# import packages\n",
        "from statistics import mean, median, mode, variance, stdev\n",
        "from collections import Counter "
      ],
      "metadata": {
        "id": "S0kZQHQ7p5Fi"
      },
      "execution_count": 6,
      "outputs": []
    },
    {
      "cell_type": "code",
      "source": [
        "# file url\n",
        "file = \"/content/drive/MyDrive/Colab Notebooks/mydata.txt\""
      ],
      "metadata": {
        "id": "bSQGQdV_p-Dr"
      },
      "execution_count": 7,
      "outputs": []
    },
    {
      "cell_type": "code",
      "source": [
        "def calculator(file):\n",
        "    # find the mean, median, mode, variance, and standard deviation\n",
        "    # of numbers stored in a file\n",
        "    numbers = []\n",
        "    with open(file) as f:\n",
        "        for line in f.readlines():\n",
        "            numbers.append(int(line))\n",
        "            \n",
        "    # calculate mean        \n",
        "    m1 = mean(numbers)\n",
        "    # calculate median\n",
        "    m2 = median(numbers)\n",
        "    # calculate mode\n",
        "    c = Counter(numbers)\n",
        "    freq = c.most_common()\n",
        "    max_count = freq[0][1]\n",
        "    modes = []\n",
        "\n",
        "    for num in freq:\n",
        "      if num[1] == max_count:\n",
        "        modes.append(num[0])\n",
        "    # calculate variance\n",
        "    v = variance(numbers)\n",
        "    # calculate standard deviation\n",
        "    sd = stdev(numbers)\n",
        "    \n",
        "    print(\"Mean:\", m1)\n",
        "    print(\"Median:\", m2)\n",
        "    print(\"Mode(s):\", modes)\n",
        "    print(\"Variance:\", v)\n",
        "    print(\"Standard Deviation:\", sd)"
      ],
      "metadata": {
        "id": "UchowdmSqFPJ"
      },
      "execution_count": 8,
      "outputs": []
    },
    {
      "cell_type": "code",
      "source": [
        "calculator(file)"
      ],
      "metadata": {
        "colab": {
          "base_uri": "https://localhost:8080/"
        },
        "id": "PPvUzd4Bx6_S",
        "outputId": "93acfd0d-efaf-4d78-f797-97479583027d"
      },
      "execution_count": 9,
      "outputs": [
        {
          "output_type": "stream",
          "name": "stdout",
          "text": [
            "Mean: 477.75\n",
            "Median: 500.0\n",
            "Mode(s): [100, 500]\n",
            "Variance: 153869.8409090909\n",
            "Standard Deviation: 392.26246431323364\n"
          ]
        }
      ]
    },
    {
      "cell_type": "markdown",
      "source": [
        "\n",
        "\n",
        "---\n",
        "\n",
        "\n",
        "#####**Programming Challenge 4: Solving Single-Variable Inequalities**\n",
        "\n",
        "\n",
        "---\n",
        "\n",
        "\n",
        "\n",
        "\n",
        "\n"
      ],
      "metadata": {
        "id": "4cDfCesV0Yxc"
      }
    },
    {
      "cell_type": "markdown",
      "source": [
        "For this challenge, create a function, isolve(), that will take any inequality, solve it, and then return the solution."
      ],
      "metadata": {
        "id": "Y_PkcgtHw3uH"
      }
    },
    {
      "cell_type": "code",
      "source": [
        "from sympy import *"
      ],
      "metadata": {
        "id": "ZTlsmWtK5nw9"
      },
      "execution_count": 10,
      "outputs": []
    },
    {
      "cell_type": "code",
      "source": [
        "def isolve():\n",
        "  '''\n",
        "  takes an inequality and returns a solution\n",
        "  '''\n",
        "  inequality = input(\"Please enter an inequality:\")\n",
        "  try:\n",
        "    inequality = sympify(inequality)\n",
        "  except SympifyError:\n",
        "    print(\"Invalid inequality\")\n",
        "\n",
        "  x = Symbol(\"x\")  \n",
        "\n",
        "  expr = inequality.lhs\n",
        "\n",
        "  # check if expression is a polynomial\n",
        "  if expr.is_polynomial() == True:\n",
        "    p = Poly(expr, x)\n",
        "    rel = inequality.rel_op\n",
        "    print(\"This is a polynomial inequality\")\n",
        "    return solve_poly_inequality(p, rel)\n",
        "  # if not polynomial, check for rational inequality\n",
        "  elif expr.is_rational_function() == True:\n",
        "    p1, p2 = expr.as_numer_denom()\n",
        "    num = Poly(p1)\n",
        "    dem = Poly(p2)\n",
        "    rel = inequality.rel_op\n",
        "    print(\"This is a rational inequality\")\n",
        "    return solve_rational_inequalities([[((num, dem), rel)]])\n",
        "  else:\n",
        "    return solve_univariate_inequality(inequality, x, relational=False)"
      ],
      "metadata": {
        "id": "MnrxBWhB5s6Q"
      },
      "execution_count": 27,
      "outputs": []
    },
    {
      "cell_type": "code",
      "source": [
        "poly = -x**2 + 4 < 0\n",
        "isolve()\n"
      ],
      "metadata": {
        "colab": {
          "base_uri": "https://localhost:8080/"
        },
        "id": "U3CDFCzl8X-d",
        "outputId": "38a2b0d3-b6f3-4a51-dfdb-dfd92a625d59"
      },
      "execution_count": 28,
      "outputs": [
        {
          "output_type": "stream",
          "name": "stdout",
          "text": [
            "Please enter an inequality:-x**2 + 4 < 0\n",
            "This is a polynomial inequality\n"
          ]
        },
        {
          "output_type": "execute_result",
          "data": {
            "text/plain": [
              "[Interval.open(-oo, -2), Interval.open(2, oo)]"
            ]
          },
          "metadata": {},
          "execution_count": 28
        }
      ]
    },
    {
      "cell_type": "code",
      "source": [
        "rational = ((x-1)/(x+2)) > 0\n",
        "isolve()"
      ],
      "metadata": {
        "colab": {
          "base_uri": "https://localhost:8080/",
          "height": 74
        },
        "id": "J_RNByZQ8cg1",
        "outputId": "ead4aef3-e835-42c6-a93e-46bc1e3897c9"
      },
      "execution_count": 29,
      "outputs": [
        {
          "output_type": "stream",
          "name": "stdout",
          "text": [
            "Please enter an inequality:((x-1)/(x+2)) > 0\n",
            "This is a rational inequality\n"
          ]
        },
        {
          "output_type": "execute_result",
          "data": {
            "text/plain": [
              "Union(Interval.open(-oo, -2), Interval.open(1, oo))"
            ],
            "text/latex": "$\\displaystyle \\left(-\\infty, -2\\right) \\cup \\left(1, \\infty\\right)$"
          },
          "metadata": {},
          "execution_count": 29
        }
      ]
    },
    {
      "cell_type": "code",
      "source": [
        "univariate = sin(x) - 0.6 > 0\n",
        "isolve()"
      ],
      "metadata": {
        "colab": {
          "base_uri": "https://localhost:8080/",
          "height": 57
        },
        "id": "gc_zmmVDAY1N",
        "outputId": "3f9c735e-245c-4f54-f1c9-5ecee763ae28"
      },
      "execution_count": 30,
      "outputs": [
        {
          "name": "stdout",
          "output_type": "stream",
          "text": [
            "Please enter an inequality:sin(x) - 0.6 > 0\n"
          ]
        },
        {
          "output_type": "execute_result",
          "data": {
            "text/plain": [
              "Interval.open(0.643501108793284, -0.643501108793284 + pi)"
            ],
            "text/latex": "$\\displaystyle \\left(0.643501108793284, -0.643501108793284 + \\pi\\right)$"
          },
          "metadata": {},
          "execution_count": 30
        }
      ]
    },
    {
      "cell_type": "markdown",
      "source": [
        "\n",
        "\n",
        "---\n",
        "\n",
        "\n",
        "#####**Programming Challenge 5: Law of Large Numbers**\n",
        "\n",
        "\n",
        "---\n",
        "\n",
        "\n"
      ],
      "metadata": {
        "id": "srqEQWLDIMHP"
      }
    },
    {
      "cell_type": "markdown",
      "source": [
        "According to the law of large numbers, the average value of results over multiple trials approaches the expected value as the number of trials increases. \n",
        "\n",
        "Your challenge in this task is to verify this law when rolling a six-sided die for the following number of trials: 100, 1000, 10000, 100000, and 500000."
      ],
      "metadata": {
        "id": "AP_VLlojJYGw"
      }
    },
    {
      "cell_type": "code",
      "source": [
        "import random\n",
        "from statistics import *\n",
        "\n",
        "# expected value of a dice roll\n",
        "e = 1*(1/6) + 2*(1/6) + 3*(1/6) + 4*(1/6) + 5*(1/6) + 6*(1/6)\n",
        "\n",
        "# list of desired number of rolls\n",
        "trials = [100, 1000, 10000, 100000, 500000]\n",
        "\n",
        "def roll(trials):\n",
        "  '''\n",
        "  takes a list of desired number of rolls and outputs the mean roll per \n",
        "  number of rolls\n",
        "  '''\n",
        "  results = []\n",
        "\n",
        "  print(\"Expected value:\", e)\n",
        "\n",
        "  for trial in trials:\n",
        "    for t in range(trial):\n",
        "      results.append(random.randint(1,6))\n",
        "    avg = mean(results)\n",
        "    print(\"Trials: {0}, Trial Average: {1}\".format(trial, avg))"
      ],
      "metadata": {
        "id": "jZqms7zgJvdB"
      },
      "execution_count": 31,
      "outputs": []
    },
    {
      "cell_type": "code",
      "source": [
        "roll(trials)"
      ],
      "metadata": {
        "colab": {
          "base_uri": "https://localhost:8080/"
        },
        "id": "TXoQhmOdMseq",
        "outputId": "84f6737a-04e7-4907-fc36-5487be6696be"
      },
      "execution_count": 32,
      "outputs": [
        {
          "output_type": "stream",
          "name": "stdout",
          "text": [
            "Expected value: 3.5\n",
            "Trials: 100, Trial Average: 3.24\n",
            "Trials: 1000, Trial Average: 3.56\n",
            "Trials: 10000, Trial Average: 3.492972972972973\n",
            "Trials: 100000, Trial Average: 3.49995499549955\n",
            "Trials: 500000, Trial Average: 3.499165439371625\n"
          ]
        }
      ]
    },
    {
      "cell_type": "markdown",
      "source": [
        "\n",
        "\n",
        "---\n",
        "\n",
        "\n",
        "#####**Programming Challenge 6: Implement the Gradient Descent**\n",
        "\n",
        "\n",
        "---\n",
        "\n"
      ],
      "metadata": {
        "id": "WL9gDdshRMq9"
      }
    },
    {
      "cell_type": "markdown",
      "source": [
        "Implement a generic program using the gradient descent algorithm to find the minimum value of a single-variable function specified as input by the user. The program should also create a graph of the function and show all the intermediate values it found before finding the minimum."
      ],
      "metadata": {
        "id": "UZcbMaRXTtu4"
      }
    },
    {
      "cell_type": "code",
      "source": [
        "from sympy import Derivative, Symbol, sympify, solve\n",
        "import numpy as np\n",
        "import matplotlib.pyplot as plt\n",
        "\n",
        "def grad_descent(xO, f1x, x):\n",
        "    \n",
        "  epsilon = 1e-6\n",
        "  step_size = 1e-4\n",
        "  x_old = xO\n",
        "  x_new = x_old-step_size*f1x.subs({x: x_old}).evalf()\n",
        "\n",
        "  # store x-values traversed\n",
        "  x_traversed = []\n",
        "  while abs(x_old-x_new) > epsilon:\n",
        "    x_traversed.append(x_new)\n",
        "    x_old = x_new\n",
        "    x_new = x_old-step_size*f1x.subs({x:x_old}).evalf()\n",
        "    \n",
        "  return x_new, x_traversed\n",
        "\n",
        "def grad_plot(x_traversed, f, var):\n",
        "  # create a range of x values to plot against the function\n",
        "  x_vals = np.arange(-1, 1, 0.01).tolist()\n",
        "  # create a list of y values based for the given function\n",
        "  f_vals = []\n",
        "  for x in x_vals:\n",
        "    f_vals.append(f.subs({var:x}))\n",
        "  # plot the function\n",
        "  plt.plot(x_vals, f_vals, marker='.', color='black')\n",
        "  # create a list of y values based on the intermediate points traversed\n",
        "  f_traversed = []\n",
        "  for x in x_traversed:\n",
        "    f_traversed.append(f.subs({var:x}))\n",
        "  # plot the traversed points\n",
        "  plt.plot(x_traversed, f_traversed, marker='.', color='red')\n",
        "  plt.legend(['Function', 'Intermediate points'])\n",
        "  plt.show()\n",
        "   \n",
        "if __name__ == '__main__':\n",
        "  f = input('Enter a function in one variable: ')\n",
        "  var = input('Enter the variable to differentiate with respect to: ')\n",
        "  varO = float(input('Enter the initial value of the variable: '))\n",
        "  try:\n",
        "    f = sympify(f)\n",
        "  except SympifyError:\n",
        "    print('Invalid function entered')\n",
        "  else:\n",
        "    var = Symbol(var)\n",
        "    d = Derivative(f, var).doit()\n",
        "    var_min, x_traversed = grad_descent(varO, d, var)\n",
        "    grad_plot(x_traversed, f, var)\n",
        "    print('{0}: {1}'.format(var.name, var_min))\n",
        "    print('Minimum value: {0}'.format(f.subs({var: var_min})));"
      ],
      "metadata": {
        "colab": {
          "base_uri": "https://localhost:8080/",
          "height": 357
        },
        "id": "72Uh6LQvVruJ",
        "outputId": "394a1955-8047-4ebf-9ad6-3b52eb8c9864"
      },
      "execution_count": 51,
      "outputs": [
        {
          "name": "stdout",
          "output_type": "stream",
          "text": [
            "Enter a function in one variable: 25*25*sin(2*theta)/9.8\n",
            "Enter the variable to differentiate with respect to: theta\n",
            "Enter the initial value of the variable: 0.001\n"
          ]
        },
        {
          "output_type": "display_data",
          "data": {
            "text/plain": [
              "<Figure size 432x288 with 1 Axes>"
            ],
            "image/png": "[encoded data removed]"
          },
          "metadata": {
            "needs_background": "light"
          }
        },
        {
          "output_type": "stream",
          "name": "stdout",
          "text": [
            "theta: -0.785360851298204\n",
            "Minimum value: -63.7755100265060\n"
          ]
        }
      ]
    }
  ]
}