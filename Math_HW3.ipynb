{
 "cells": [
  {
   "cell_type": "markdown",
   "id": "bc3eeb25",
   "metadata": {},
   "source": [
    "---\n",
    "#### 1. The weights of steers in a herd are distributed normally.  The variance is 40,000 and the mean steer weight is 1300 lbs.  Find the probability that the weight of a randomly selected steer is greater than 979 lbs. (Round your answer to 4 decimal places)\n",
    "---"
   ]
  },
  {
   "cell_type": "code",
   "execution_count": 125,
   "id": "070ef642",
   "metadata": {},
   "outputs": [
    {
     "name": "stdout",
     "output_type": "stream",
     "text": [
      "z-score: -1.605\n",
      "p-value: 0.05424690233591037\n",
      "Probability = 94.5753%\n"
     ]
    }
   ],
   "source": [
    "import numpy as np\n",
    "import scipy.stats as st\n",
    "\n",
    "# store the mean\n",
    "m = 1300\n",
    "\n",
    "# store the variance\n",
    "v = 40000\n",
    "\n",
    "# calculate the standard devation: sqrt(var)\n",
    "std = np.sqrt(v)\n",
    "\n",
    "# calculate z-score: z = (x - m)/std\n",
    "x = 979\n",
    "z = (x - m)/std\n",
    "\n",
    "# calculate p value\n",
    "p_val = st.norm.sf(abs(z))\n",
    "\n",
    "# calculate probability from p value, rounded to 4 decimals\n",
    "prob = round((1 - p_val) * 100, 4)\n",
    "print(\"z-score: {}\".format(z))\n",
    "print(\"p-value: {}\".format(p_val))\n",
    "print(\"Probability = {}%\".format(prob))"
   ]
  },
  {
   "cell_type": "code",
   "execution_count": 126,
   "id": "c5d8ea94",
   "metadata": {},
   "outputs": [],
   "source": [
    "# function to perform the above\n",
    "\n",
    "def prob_norm(mean, variance, value, dec=4):\n",
    "    '''\n",
    "    takes three arguments: mean, variance, and value, and returns\n",
    "    probability in a normal distribution\n",
    "    \n",
    "    takes optional argument to round decimal spaces, default: 4\n",
    "    \n",
    "    requires numpy and scipy.stats packages\n",
    "    '''\n",
    "    # calculate standard deviation from variance: sqrt(variance)\n",
    "    std = np.sqrt(variance)\n",
    "    \n",
    "    # calculate z-score: z = (value - mean)/std\n",
    "    z = (value - mean)/std\n",
    "    \n",
    "    # calculate p value from z score\n",
    "    p = st.norm.sf(abs(z))\n",
    "    \n",
    "    # calculate probability from p value, rounded to 4 decimals\n",
    "    prob = round((1 - p) * 100, dec)\n",
    "    \n",
    "    print(\"z-score: {}\".format(z))\n",
    "    print(\"p-value: {}\".format(p))\n",
    "    print(\"Probability = {}%\".format(prob))"
   ]
  },
  {
   "cell_type": "code",
   "execution_count": 127,
   "id": "0feec027",
   "metadata": {},
   "outputs": [
    {
     "name": "stdout",
     "output_type": "stream",
     "text": [
      "z-score: -1.605\n",
      "p-value: 0.05424690233591037\n",
      "Probability = 94.5753%\n"
     ]
    }
   ],
   "source": [
    "# check function\n",
    "\n",
    "prob_norm(mean=1300, variance=40000, value=979)"
   ]
  },
  {
   "cell_type": "markdown",
   "id": "ed2cfeca",
   "metadata": {},
   "source": [
    "<b> Answer: </b> 94.5753%"
   ]
  },
  {
   "cell_type": "markdown",
   "id": "55c4b3df",
   "metadata": {},
   "source": [
    "---\n",
    "#### 2. \tSVGA monitors manufactured by TSI Electronics have life spans that have a normal distribution with a variance of 1,960,000 and a mean life span of 11,000 hours.  If a SVGA monitor is selected at random, find the probability that the life span of the monitor will be more than 8340 hours. (Round your answer to 4 decimal places)\n",
    "---"
   ]
  },
  {
   "cell_type": "code",
   "execution_count": 128,
   "id": "f9175455",
   "metadata": {},
   "outputs": [
    {
     "name": "stdout",
     "output_type": "stream",
     "text": [
      "z-score: -1.9\n",
      "p-value: 0.028716559816001803\n",
      "Probability = 97.1283%\n"
     ]
    }
   ],
   "source": [
    "prob_norm(mean=11000, variance=1960000, value=8340)"
   ]
  },
  {
   "cell_type": "markdown",
   "id": "526809a1",
   "metadata": {},
   "source": [
    "<b> Answer:</b> 97.1283%"
   ]
  },
  {
   "cell_type": "markdown",
   "id": "a88d8935",
   "metadata": {},
   "source": [
    "---\n",
    "#### 3. \tSuppose the mean income of firms in the industry for a year is 80 million dollars with a standard deviation of 3 million dollars.  If incomes for the industry are distributed normally, what is the probability that a randomly selected firm will earn between 83 and 85 million dollars? (Round your answer to 4 decimal places)\n",
    "---"
   ]
  },
  {
   "cell_type": "code",
   "execution_count": 129,
   "id": "25a04c28",
   "metadata": {},
   "outputs": [
    {
     "name": "stdout",
     "output_type": "stream",
     "text": [
      "Probability = 11.0865%\n"
     ]
    }
   ],
   "source": [
    "# store mean\n",
    "mean = 80e6\n",
    "\n",
    "# store std\n",
    "std = 3e6\n",
    "\n",
    "# store lower and upper boundaries\n",
    "lower = 83e6\n",
    "upper = 85e6\n",
    "\n",
    "# calculate z scores\n",
    "lower_z = (lower - mean)/std\n",
    "upper_z = (upper - mean)/std\n",
    "\n",
    "# calculate p values from z scores\n",
    "p1 = st.norm.sf(abs(lower_z))\n",
    "p2 = st.norm.sf(abs(upper_z))\n",
    "\n",
    "# p score between upper and lower boundaries\n",
    "p = p1 - p2\n",
    "\n",
    "# calculate probability from p value, rounded to 4 decimals\n",
    "prob = round(p * 100, 4)\n",
    "\n",
    "print(\"Probability = {}%\".format(prob))"
   ]
  },
  {
   "cell_type": "markdown",
   "id": "05724896",
   "metadata": {},
   "source": [
    "<b> Answer:</b> 11.0865%"
   ]
  },
  {
   "cell_type": "markdown",
   "id": "93b6136f",
   "metadata": {},
   "source": [
    "---\n",
    "#### 4. \tSuppose GRE Verbal scores are normally distributed with a mean of 456 and a standard deviation of 123.  A university plans to offer tutoring jobs to students whose scores are in the top 14%.  What is the minimum score required for the job offer?  Round your answer to the nearest whole number, if necessary.\n",
    "---"
   ]
  },
  {
   "cell_type": "code",
   "execution_count": 56,
   "id": "796d8fff",
   "metadata": {},
   "outputs": [],
   "source": [
    "mean = 456\n",
    "std = 123"
   ]
  },
  {
   "cell_type": "code",
   "execution_count": 130,
   "id": "a9613f78",
   "metadata": {},
   "outputs": [
    {
     "name": "stdout",
     "output_type": "stream",
     "text": [
      "z-score: 1.0803193408149558\n"
     ]
    }
   ],
   "source": [
    "# find z score at top 14%\n",
    "z = st.norm.ppf(.86)\n",
    "print(\"z-score: {}\".format(z))"
   ]
  },
  {
   "cell_type": "code",
   "execution_count": 69,
   "id": "3f7dcb05",
   "metadata": {},
   "outputs": [
    {
     "name": "stdout",
     "output_type": "stream",
     "text": [
      "589\n"
     ]
    }
   ],
   "source": [
    "# use z-score, mean, and std to solve for x\n",
    "# z = (x - m)/std\n",
    "# x = (z * std) + m\n",
    "x = round((z * std) + mean)\n",
    "print(x)"
   ]
  },
  {
   "cell_type": "markdown",
   "id": "14c0fb0f",
   "metadata": {},
   "source": [
    "<b>Answer:</b> The minimum required score is 589"
   ]
  },
  {
   "cell_type": "markdown",
   "id": "79c0283e",
   "metadata": {},
   "source": [
    "---\n",
    "#### 5. \tThe lengths of nails produced in a factory are normally distributed with a mean of 6.13 centimeters and a standard deviation of 0.06 centimeters.  Find the two lengths that separate the top 7% and the bottom 7%.  These lengths could serve as limits used to identify which nails should be rejected.  Round your answer to the nearest hundredth, if necessary.\n",
    "---"
   ]
  },
  {
   "cell_type": "code",
   "execution_count": 131,
   "id": "5427bcc7",
   "metadata": {},
   "outputs": [
    {
     "name": "stdout",
     "output_type": "stream",
     "text": [
      "1.475791028179171 -1.4757910281791706\n",
      "Lower length = 6.04\n",
      "Upper length = 6.22\n"
     ]
    }
   ],
   "source": [
    "# define mean and std dev: \n",
    "mean = 6.13\n",
    "std = 0.06\n",
    "\n",
    "# upper z: z_up\n",
    "z_up = st.norm.ppf(.93)\n",
    "# lower z: z_low\n",
    "z_low = st.norm.ppf(.07)\n",
    "\n",
    "print(z_up, z_low)\n",
    "\n",
    "# lower length: x_low\n",
    "x_low = round((z_low * std) + mean, 2)\n",
    "# upper length: x_up\n",
    "x_up = round((z_up * std) + mean, 2)\n",
    "\n",
    "print(\"Lower length = {}cm\".format(x_low))\n",
    "print(\"Upper length = {}cm\".format(x_up))"
   ]
  },
  {
   "cell_type": "code",
   "execution_count": 100,
   "id": "7aaf972b",
   "metadata": {},
   "outputs": [],
   "source": [
    "# visualize the distribution\n",
    "import matplotlib.pyplot as plt\n",
    "\n",
    "mu, sigma = mean, std\n",
    "s = np.random.normal(mu, sigma, 1000)"
   ]
  },
  {
   "cell_type": "code",
   "execution_count": 101,
   "id": "c18716f7",
   "metadata": {},
   "outputs": [
    {
     "data": {
      "image/png": "[encoded data removed]",
      "text/plain": [
       "<Figure size 432x288 with 1 Axes>"
      ]
     },
     "metadata": {
      "needs_background": "light"
     },
     "output_type": "display_data"
    }
   ],
   "source": [
    "count, bins, ignored = plt.hist(s, 30, density=True)\n",
    "\n",
    "plt.plot(bins, 1/(sigma * np.sqrt(2 * np.pi)) *\n",
    "        np.exp( - (bins - mu)**2 / (2 * sigma**2)),\n",
    "        linewidth=2, color='r')\n",
    "plt.axvline(x=mu, color='r')\n",
    "plt.axvline(x=x_low, linestyle='--', color='r')\n",
    "plt.axvline(x=x_up, linestyle='--', color='r')\n",
    "plt.show()"
   ]
  },
  {
   "cell_type": "markdown",
   "id": "c526aad1",
   "metadata": {},
   "source": [
    "<b> Answer: </b> The two lengths are 6.04 cm and 6.22 cm"
   ]
  },
  {
   "cell_type": "markdown",
   "id": "1ffe546f",
   "metadata": {},
   "source": [
    "---\n",
    "#### 6. \tAn English professor assigns letter grades on a test according to the following scheme:\n",
    "\n",
    "> A:  Top 13% of scores  \n",
    "  B:  Scores below the top 13% and above the bottom 55%  \n",
    "  C:  Scores below the top 45% and above the bottom 20%  \n",
    "  D:  Scores below the top 80% and above the bottom 9%  \n",
    "  F:  Bottom 9% of scores  \n",
    "        \n",
    "Scores on the test are normally distributed with a mean of 78.8 and a standard deviation of 9.8.  Find the numerical limits for a C grade.  Round your answers to the nearest whole number, if necessary. \n",
    "\n",
    "---"
   ]
  },
  {
   "cell_type": "code",
   "execution_count": 133,
   "id": "6087b995",
   "metadata": {},
   "outputs": [
    {
     "name": "stdout",
     "output_type": "stream",
     "text": [
      "Lower limit = 71\n",
      "Upper limit = 80\n"
     ]
    }
   ],
   "source": [
    "# store the mean: m\n",
    "m = 78.8\n",
    "\n",
    "# store the standard deviation: std\n",
    "std = 9.8\n",
    "\n",
    "# upper bound z: z_u\n",
    "z_u = st.norm.ppf(.55)\n",
    "# lower bound z: z_l\n",
    "z_l = st.norm.ppf(.20)\n",
    "\n",
    "# lower length: x_l\n",
    "x_l = round((z_l * std) + m)\n",
    "# upper length: x_u\n",
    "x_u = round((z_u * std) + m)\n",
    "\n",
    "print(\"Lower limit = {}\".format(x_l))\n",
    "print(\"Upper limit = {}\".format(x_u))\n"
   ]
  },
  {
   "cell_type": "markdown",
   "id": "5ff96c3f",
   "metadata": {},
   "source": [
    "<b> Answer: </b> C grades range from 71-80"
   ]
  },
  {
   "cell_type": "markdown",
   "id": "393bf795",
   "metadata": {},
   "source": [
    "---\n",
    "#### 7. \tSuppose ACT Composite scores are normally distributed with a mean of 21.2 and a standard deviation of 5.4.  A university plans to admit students whose scores are in the top 45%.  What is the minimum score required for admission?  Round your answer to the nearest tenth, if necessary.\n",
    "---"
   ]
  },
  {
   "cell_type": "code",
   "execution_count": 134,
   "id": "cf9ea404",
   "metadata": {},
   "outputs": [
    {
     "name": "stdout",
     "output_type": "stream",
     "text": [
      "The minimum score for admission is 21.9\n"
     ]
    }
   ],
   "source": [
    "# store the mean: m\n",
    "m = 21.2\n",
    "\n",
    "# store the standard deviation: std\n",
    "std = 5.4\n",
    "\n",
    "# find the z-score for top 45%: z\n",
    "z = st.norm.ppf(.55)\n",
    "\n",
    "# find the minimum score: min_score\n",
    "min_score = round((z * std) + m, 1)\n",
    "\n",
    "print(\"The minimum score for admission is {}\".format(min_score))"
   ]
  },
  {
   "cell_type": "markdown",
   "id": "ba61c6c3",
   "metadata": {},
   "source": [
    "<b> Answer: </b> The minimum ACT score for admission is 21.9"
   ]
  },
  {
   "cell_type": "markdown",
   "id": "8a4a4366",
   "metadata": {},
   "source": [
    "---\n",
    "#### 8. \tConsider the probability that less than 11 out of 151 students will not graduate on time.  Assume the probability that a given student will not graduate on time is 9%.  Approximate the probability using the normal distribution. (Round your answer to 4 decimal places.)\n",
    "---"
   ]
  },
  {
   "cell_type": "code",
   "execution_count": 142,
   "id": "8a8cbb6b",
   "metadata": {},
   "outputs": [
    {
     "name": "stdout",
     "output_type": "stream",
     "text": [
      "The probability that fewer than 11 students pass is 19.1967%\n"
     ]
    }
   ],
   "source": [
    "# number of students: n\n",
    "n = 151\n",
    "\n",
    "# probability that a given student will not graduate on time: p\n",
    "p = 0.09\n",
    "\n",
    "# number of success (failures): x\n",
    "x = 10\n",
    "\n",
    "# utilizing binomial cumulative density function\n",
    "prob = round(st.binom.cdf(x, n, p, loc=0), 6) * 100\n",
    "\n",
    "print(\"The probability that fewer than 11 students pass is {}%\".format(prob))"
   ]
  },
  {
   "cell_type": "markdown",
   "id": "0ad4f7cf",
   "metadata": {},
   "source": [
    "<b> Answer: </b> The probability that fewer than 11 students pass is 19.1967%"
   ]
  },
  {
   "cell_type": "markdown",
   "id": "bee39f7b",
   "metadata": {},
   "source": [
    "---\n",
    "#### 9. \tThe mean lifetime of a tire is 48 months with a standard deviation of 7.  If 147 tires are sampled, what is the probability that the mean of the sample would be greater than 48.83 months? (Round your answer to 4 decimal places)\n",
    "---"
   ]
  },
  {
   "cell_type": "code",
   "execution_count": 162,
   "id": "c141a2e4",
   "metadata": {},
   "outputs": [
    {
     "name": "stdout",
     "output_type": "stream",
     "text": [
      "The probability the mean sample would be greater than 48.83 months is 7.5273%\n"
     ]
    }
   ],
   "source": [
    "# store mean: m\n",
    "m = 48\n",
    "\n",
    "# store standard deviation: std\n",
    "std = 7\n",
    "\n",
    "# store number of trials: n\n",
    "n = 147\n",
    "\n",
    "# store sample mean: x\n",
    "x = 48.83\n",
    "\n",
    "# calculate standard error: sde\n",
    "sde = std/np.sqrt(n)\n",
    "\n",
    "# calculate p value\n",
    "p = round(1 - st.norm.cdf(x, m, sde), 6) * 100\n",
    "print(\"The probability the mean sample would be greater than 48.83 months is {}%\".format(p))"
   ]
  },
  {
   "cell_type": "markdown",
   "id": "4a3f4b1a",
   "metadata": {},
   "source": [
    "<b> Answer: </b> The probability the mean sample would be greater than 48.83 months is 7.5273%"
   ]
  },
  {
   "cell_type": "markdown",
   "id": "dd5783a7",
   "metadata": {},
   "source": [
    "---\n",
    "#### 10. \tThe quality control manager at a computer manufacturing company believes that the mean life of a computer is 91 months, with a standard deviation of 10.  If he is correct, what is the probability that the mean of a sample of 68 computers would be greater than 93.54 months? (Round your answer to 4 decimal places)\n",
    "---"
   ]
  },
  {
   "cell_type": "code",
   "execution_count": 167,
   "id": "423aae4e",
   "metadata": {},
   "outputs": [
    {
     "name": "stdout",
     "output_type": "stream",
     "text": [
      "The probability the mean sample of 68 computers would be greater than 93.54 is 1.8106%\n"
     ]
    }
   ],
   "source": [
    "# store mean: m\n",
    "m = 91\n",
    "\n",
    "# store standard deviation: std\n",
    "std = 10\n",
    "\n",
    "# store sample: n\n",
    "n = 68\n",
    "\n",
    "# sample mean: x\n",
    "x = 93.54\n",
    "\n",
    "# store standard error: sde\n",
    "sde = std/np.sqrt(n)\n",
    "\n",
    "# calculate p value\n",
    "p = round(1 - st.norm.cdf(x, m, sde), 6) * 100\n",
    "print(\"The probability the mean sample of {} computers would be greater than {} is {}%\".format(n, x, p))"
   ]
  },
  {
   "cell_type": "markdown",
   "id": "68636d5f",
   "metadata": {},
   "source": [
    "<b> Answer: </b> The probability the mean sample of 68 computers would be greater than 93.54 is 1.8106%"
   ]
  },
  {
   "cell_type": "markdown",
   "id": "bdb75b23",
   "metadata": {},
   "source": [
    "---\n",
    "#### 11. \tA director of reservations believes that 7% of the ticketed passengers are no-shows.  If the director is right, what is the probability that the proportion of no-shows in a sample of 540 ticketed passengers would differ from the population proportion by less than 3%? (Round your answer to 4 decimal places)\n",
    "---"
   ]
  },
  {
   "cell_type": "code",
   "execution_count": 276,
   "id": "f20c972f",
   "metadata": {},
   "outputs": [
    {
     "name": "stdout",
     "output_type": "stream",
     "text": [
      "The probability the proportion of no shows would differ by less than 3 percent is 99.469%\n"
     ]
    }
   ],
   "source": [
    "from scipy.stats import binom\n",
    "\n",
    "# sample: n\n",
    "n = 540\n",
    "\n",
    "# prob of no-shows: p\n",
    "p = 0.07\n",
    "\n",
    "# define upper bound, 10%: upper\n",
    "upper = 0.10\n",
    "\n",
    "# define lower bound, 4%: lower\n",
    "lower = 0.04\n",
    "\n",
    "upper_prob = st.binom.cdf(upper*n, n, p)\n",
    "lower_prob = st.binom.cdf(lower*n, n, p)\n",
    "\n",
    "prob = round(upper_prob - lower_prob, 6) * 100\n",
    "\n",
    "print(\"The probability the proportion of no shows would differ by less than 3 percent is {}%\".format(prob))"
   ]
  },
  {
   "cell_type": "markdown",
   "id": "7b3590ca",
   "metadata": {},
   "source": [
    "<b> Answer: </b> The probability the proportion of no shows would differ by less than 3 percent is 99.469%"
   ]
  },
  {
   "cell_type": "markdown",
   "id": "97e43285",
   "metadata": {},
   "source": [
    "---\n",
    "#### 12. \tA bottle maker believes that 23% of his bottles are defective.  If the bottle maker is accurate, what is the probability that the proportion of defective bottles in a sample of 602 bottles would differ from the population proportion by greater than 4%? (Round your answer to 4 decimal places)\n",
    "---"
   ]
  },
  {
   "cell_type": "code",
   "execution_count": 277,
   "id": "a6519288",
   "metadata": {},
   "outputs": [
    {
     "name": "stdout",
     "output_type": "stream",
     "text": [
      "The probability the proportion of defective bottles would differ by greater than 4 percent is 1.9994%\n"
     ]
    }
   ],
   "source": [
    "# sample: n\n",
    "n = 602\n",
    "\n",
    "# prob of defective bottles, 23%: p\n",
    "p = 0.23\n",
    "\n",
    "# define upper bound, 27%: upper\n",
    "upper = 0.27\n",
    "\n",
    "# define lower bound, 19%: lower\n",
    "lower = 0.19\n",
    "\n",
    "upper_prob = st.binom.cdf(upper*n, n, p)\n",
    "lower_prob = st.binom.cdf(lower*n, n, p)\n",
    "\n",
    "prob = round(1 - (upper_prob - lower_prob), 6) * 100\n",
    "\n",
    "print(\"The probability the proportion of defective bottles would differ by greater than 4 percent is {}%\".format(prob))"
   ]
  },
  {
   "cell_type": "markdown",
   "id": "097fe924",
   "metadata": {},
   "source": [
    "<b> Answer: </b> The probability the proportion of defective bottles would differ by greater than 4 percent is 1.9994%\n",
    "\n",
    "\n"
   ]
  },
  {
   "cell_type": "markdown",
   "id": "52a245d7",
   "metadata": {},
   "source": [
    "---\n",
    "#### 13. \tA research company desires to know the mean consumption of beef per week among males over age 48.  Suppose a sample of size 208 is drawn with x ̅  = 3.9.  Assume ® = 0.8 .  Construct the 80% confidence interval for the mean number of lb. of beef per week among males over 48. (Round your answers to 1 decimal place) \n",
    "---\n",
    "\n",
    "\n",
    "\n",
    "\n",
    "\n"
   ]
  },
  {
   "cell_type": "code",
   "execution_count": 282,
   "id": "d39a04b7",
   "metadata": {},
   "outputs": [
    {
     "name": "stdout",
     "output_type": "stream",
     "text": [
      "Lower Limit: 3.8\n",
      "Upper Limit: 4.0\n"
     ]
    }
   ],
   "source": [
    "# sample: n\n",
    "n = 208\n",
    "# mean: m\n",
    "m = 3.9\n",
    "# standard deviation: std\n",
    "std = 0.8\n",
    "# standard error of the mean: ste\n",
    "ste = std/np.sqrt(n)\n",
    "# confidence interval, 80%: CI\n",
    "CI = [.1,.9]\n",
    "\n",
    "lower = round(norm.ppf(CI[0], m, ste), 1)\n",
    "upper = round(norm.ppf(CI[1], m, ste), 1)\n",
    "\n",
    "print(\"Lower Limit: {}\\nUpper Limit: {}\".format(lower, upper))"
   ]
  },
  {
   "cell_type": "markdown",
   "id": "bd872d5a",
   "metadata": {},
   "source": [
    "<b> Answer: </b> The lower limit is 3.8, the upper limit is 4.0"
   ]
  },
  {
   "cell_type": "markdown",
   "id": "880c2d7e",
   "metadata": {},
   "source": [
    "---\n",
    "#### 14. \tAn economist wants to estimate the mean per capita income (in thousands of dollars) in a major city in California.  Suppose a sample of size 7472 is drawn with x ̅  = 16.6.  Assume ® = 11 .  Construct the 98% confidence interval for the mean per capita income. (Round your answers to 1 decimal place) \n",
    "---\n"
   ]
  },
  {
   "cell_type": "code",
   "execution_count": 289,
   "id": "5665a21f",
   "metadata": {},
   "outputs": [
    {
     "name": "stdout",
     "output_type": "stream",
     "text": [
      "[16.3, 16.9]\n"
     ]
    }
   ],
   "source": [
    "# sample: n\n",
    "n = 7472\n",
    "# mean: m\n",
    "m = 16.6\n",
    "# standard deviation: std\n",
    "std = 11\n",
    "# standard error of the mean: ste\n",
    "ste = std/np.sqrt(n)\n",
    "# confidence interval, 98%: CI\n",
    "CI = [.01,.99]\n",
    "\n",
    "lower = round(norm.ppf(CI[0], m, ste), 1)\n",
    "upper = round(norm.ppf(CI[1], m, ste), 1)\n",
    "result = [lower, upper]\n",
    "print(result)"
   ]
  },
  {
   "cell_type": "markdown",
   "id": "48b9e130",
   "metadata": {},
   "source": [
    "<b> Answer: </b> The 98% confidence interval for the mean per capita income is [16.3, 16.9]"
   ]
  },
  {
   "cell_type": "markdown",
   "id": "285bcd3e",
   "metadata": {},
   "source": [
    "---\n",
    "#### Find the value of t such that 0.05 of the area under the curve is to the left of t.  Assume the degrees of freedom equals 26.\n",
    "---"
   ]
  },
  {
   "cell_type": "markdown",
   "id": "6c7d80a7",
   "metadata": {},
   "source": [
    "This picture best describes the problem:"
   ]
  },
  {
   "attachments": {
    "Picture1.png": {
     "image/png": "[encoded data removed]"
    }
   },
   "cell_type": "markdown",
   "id": "be35d0d0",
   "metadata": {},
   "source": [
    "![Picture1.png](attachment:Picture1.png)"
   ]
  },
  {
   "cell_type": "code",
   "execution_count": 291,
   "id": "0ceeebad",
   "metadata": {},
   "outputs": [
    {
     "name": "stdout",
     "output_type": "stream",
     "text": [
      "-1.7056179197592731\n"
     ]
    }
   ],
   "source": [
    "# find t-value: t\n",
    "t = scipy.stats.t.ppf(q=.05,df=26)\n",
    "print(t)"
   ]
  },
  {
   "cell_type": "markdown",
   "id": "84856ad3",
   "metadata": {},
   "source": [
    "<b> Answer: </b> t = -1.7056179197592731"
   ]
  },
  {
   "cell_type": "markdown",
   "id": "fee7ba40",
   "metadata": {},
   "source": [
    "---\n",
    "<b> Question 16 </b>\n",
    "\n",
    "The following measurements (in picocuries per liter) were recorded by a set of helium gas detectors installed in a laboratory facility:  \n",
    "\t                     \n",
    "    383.6, 347.1, 371.9, 347.6, 325.8, 337\n",
    "\t\n",
    "Using these measurements, construct a 90% confidence interval for the mean level of helium gas present in the facility.  Assume the population is normally distributed.  \n",
    "\n",
    "Step 1. Calculate the sample mean for the given sample data. (Round answer to 2 decimal places). \n",
    "\n",
    "\n",
    "Step 2. Calculate the sample standard deviation for the given sample data. (Round answer to 2 decimal places). \n",
    "\n",
    "\n",
    "Step 3. Find the critical value that should be used in constructing the confidence interval. (Round answer to 3 decimal places). \n",
    "\n",
    "\n",
    "Step 4. Construct the 90% confidence interval. (Round answer to 2 decimal places).\n",
    "\n",
    "---"
   ]
  },
  {
   "cell_type": "code",
   "execution_count": 334,
   "id": "c9fd4fa0",
   "metadata": {},
   "outputs": [
    {
     "name": "stdout",
     "output_type": "stream",
     "text": [
      "Step 1: mean = 352.17\n",
      "Step 2: standard deviation = 21.68\n",
      "Step 3: t = 2.015048372669157\n",
      "Step 4: 90% Confidence Interval = [334.34, 370.0]\n"
     ]
    }
   ],
   "source": [
    "# measurements\n",
    "measurements = [383.6, 347.1, 371.9, 347.6, 325.8, 337]\n",
    "# mean of measurements: m\n",
    "m = round(np.mean(measurements), 2)\n",
    "# standard deviation of measurements: std\n",
    "std = round(np.std(measurements, ddof=1), 2)\n",
    "# sample size: n\n",
    "n = len(measurements)\n",
    "# degree of freedom: dof\n",
    "dof = n - 1\n",
    "# t-value: t\n",
    "t = st.t.ppf(q=.95,df=dof)\n",
    "# construct confidence interval\n",
    "lower = round(m-t*std/np.sqrt(n), 2)\n",
    "upper = round(m+t*std/np.sqrt(n), 2)\n",
    "ci = [lower, upper]\n",
    "print(\"Step 1: mean = {}\\nStep 2: standard deviation = {}\\nStep 3: t = {}\\nStep 4: 90% Confidence Interval = {}\".format(m, std, t, ci))"
   ]
  },
  {
   "cell_type": "markdown",
   "id": "f54f19fb",
   "metadata": {},
   "source": [
    "<b> Answer: </b>   \n",
    "Step 1: mean = 352.17  \n",
    "Step 2: standard deviation = 21.68  \n",
    "Step 3: t = 2.015048372669157  \n",
    "Step 4: 90% Confidence Interval = [334.34, 370.0]\n"
   ]
  },
  {
   "cell_type": "markdown",
   "id": "ff2c5657",
   "metadata": {},
   "source": [
    "---\n",
    "#### 17. \tA random sample of 16 fields of spring wheat has a mean yield of 46.4 bushels per acre and standard deviation of 2.45 bushels per acre.  Determine the 80% confidence interval for the true mean yield.  Assume the population is normally distributed.  \n",
    "\n",
    "Step 1. Find the critical value that should be used in constructing the confidence interval. (Round answer to 3 decimal places) \n",
    "\n",
    "\n",
    "Step 2. Construct the 80% confidence interval. (Round answer to 1 decimal place)\n",
    "\n",
    "---\n",
    "\n",
    "\n",
    "\n"
   ]
  },
  {
   "cell_type": "code",
   "execution_count": 340,
   "id": "4c9c551b",
   "metadata": {},
   "outputs": [
    {
     "name": "stdout",
     "output_type": "stream",
     "text": [
      "t value: 1.341\n",
      "Confidence Interval: [45.6, 47.2]\n"
     ]
    }
   ],
   "source": [
    "# sample: n\n",
    "n = 16\n",
    "# mean: m\n",
    "m = 46.4\n",
    "# standard deviation: std\n",
    "std = 2.45\n",
    "# degrees of freedom\n",
    "dof = n - 1\n",
    "# find t value\n",
    "t = round(st.t.ppf(q=.90,df=dof), 3)\n",
    "# construct confidence interval\n",
    "lower = round(m-t*std/np.sqrt(n), 1)\n",
    "upper = round(m+t*std/np.sqrt(n), 1)\n",
    "ci = [lower, upper]\n",
    "print(\"t value: {}\\nConfidence Interval: {}\".format(t, ci))"
   ]
  },
  {
   "cell_type": "markdown",
   "id": "3240be25",
   "metadata": {},
   "source": [
    "<b> Answer: </b>   \n",
    "t value: 1.341  \n",
    "Confidence Interval: [45.6, 47.2]"
   ]
  },
  {
   "cell_type": "markdown",
   "id": "85a7cdc3",
   "metadata": {},
   "source": [
    "---\n",
    "#### 18. \tA toy manufacturer wants to know how many new toys children buy each year.  She thinks the mean is 8 toys per year.  Assume a previous study found the standard deviation to be 1.9.  How large of a sample would be required in order to estimate the mean number of toys bought per child at the 99% confidence level with an error of at most 0.13 toys? (Round your answer up to the next integer)\n",
    "---"
   ]
  },
  {
   "cell_type": "code",
   "execution_count": 363,
   "id": "5d228191",
   "metadata": {},
   "outputs": [
    {
     "name": "stdout",
     "output_type": "stream",
     "text": [
      "1156\n"
     ]
    }
   ],
   "source": [
    "# mean: m\n",
    "m = 8\n",
    "# standard deviation: std\n",
    "std = 1.9\n",
    "# mean error: me\n",
    "me = 0.13\n",
    "# z score: z\n",
    "z = st.norm.ppf(.99)\n",
    "# solve for n sample: n = z^2 * std^2 / me^2\n",
    "n = round(z**2*std**2/me**2)\n",
    "print(n)"
   ]
  },
  {
   "cell_type": "markdown",
   "id": "8e44918c",
   "metadata": {},
   "source": [
    "<b> Answer: </b> The sample would need to be 1156 children."
   ]
  },
  {
   "cell_type": "markdown",
   "id": "3533ce72",
   "metadata": {},
   "source": [
    "---\n",
    "#### 19. \tA research scientist wants to know how many times per hour a certain strand of bacteria reproduces.  He believes that the mean is 12.6.  Assume the variance is known to be 3.61.  How large of a sample would be required in order to estimate the mean number of reproductions per hour at the 95% confidence level with an error of at most 0.19 reproductions? (Round your answer up to the next integer)\n",
    "---"
   ]
  },
  {
   "cell_type": "code",
   "execution_count": 364,
   "id": "91e5bfde",
   "metadata": {},
   "outputs": [
    {
     "name": "stdout",
     "output_type": "stream",
     "text": [
      "271\n"
     ]
    }
   ],
   "source": [
    "# variance: v\n",
    "v = 3.61\n",
    "# standard deviation: std\n",
    "std = np.sqrt(v)\n",
    "# mean error: me\n",
    "me = 0.19\n",
    "# z score: z\n",
    "z = st.norm.ppf(.95)\n",
    "# solve for n sample: n = z^2 * std^2 / me^2\n",
    "n = round(z**2*std**2/me**2)\n",
    "print(n)"
   ]
  },
  {
   "cell_type": "markdown",
   "id": "dc48cb69",
   "metadata": {},
   "source": [
    "<b> Answer: </b> The required sample size is 271."
   ]
  },
  {
   "cell_type": "markdown",
   "id": "9b6f90ea",
   "metadata": {},
   "source": [
    "---\n",
    "#### 20. \tThe state education commission wants to estimate the fraction of tenth grade students that have reading skills at or below the eighth grade level.\n",
    "\n",
    "Step 1. Suppose a sample of 2089 tenth graders is drawn. Of the students sampled, 1734 read above the eighth grade level.  Using the data, estimate the proportion of tenth graders reading at or below the eighth grade level. (Write your answer as a fraction or a decimal number rounded to 3 decimal places) \n",
    "\n",
    "\n",
    "Step 2. Suppose a sample of 2089 tenth graders is drawn.  Of the students sampled, 1734 read above the eighth grade level.  Using the data, construct the 98% confidence interval for the population proportion of tenth graders reading at or below the eighth grade level. (Round your answers to 3 decimal places)\n",
    "\n",
    "---"
   ]
  },
  {
   "cell_type": "code",
   "execution_count": 385,
   "id": "adf455a3",
   "metadata": {},
   "outputs": [
    {
     "name": "stdout",
     "output_type": "stream",
     "text": [
      "Proportion of 10th graders reading below an 8th grade level: 0.17\n"
     ]
    }
   ],
   "source": [
    "# total students: n\n",
    "n = 2089\n",
    "# students reading above 8th grade level: x1\n",
    "x1 = 1734\n",
    "# students reading below 8th grade level: x2\n",
    "x2 = n - x1\n",
    "# proportion of students reading below 8th grade level: x3\n",
    "p = round(x2/n, 3)\n",
    "print(\"Proportion of 10th graders reading below an 8th grade level: {}\".format(x3))"
   ]
  },
  {
   "cell_type": "code",
   "execution_count": 386,
   "id": "bfbfe832",
   "metadata": {},
   "outputs": [
    {
     "name": "stdout",
     "output_type": "stream",
     "text": [
      "The 98% confidence interval is: [0.153, 0.187]\n"
     ]
    }
   ],
   "source": [
    "# z-score: z \n",
    "z = st.norm.ppf(.98)\n",
    "\n",
    "# lower bound: lower\n",
    "lower = round((p-z*np.sqrt(p*(1-p)/n)), 3)\n",
    "\n",
    "# upper bound: upper\n",
    "upper = round((p+z*np.sqrt(p*(1-p)/n)), 3)\n",
    "\n",
    "ci = [lower, upper]\n",
    "print(\"The 98% confidence interval is: {}\".format(ci))"
   ]
  },
  {
   "cell_type": "markdown",
   "id": "0ceaf4e9",
   "metadata": {},
   "source": [
    "<b> Answer: </b> 17% of 10th graders read below an 8th grade level. The 98% confidence interval is 15.3% - 18.7%"
   ]
  },
  {
   "cell_type": "markdown",
   "id": "c3a829f3",
   "metadata": {},
   "source": [
    "---\n",
    "#### 21.  An environmentalist wants to find out the fraction of oil tankers that have spills each month.\n",
    "\n",
    "Step 1. Suppose a sample of 474 tankers is drawn.  Of these ships, 156 had spills.  Using the data, estimate the proportion of oil tankers that had spills. (Write your answer as a fraction or a decimal number rounded to 3 decimal places) \n",
    "\n",
    "Step 2. Suppose a sample of 474 tankers is drawn.  Of these ships, 156 had spills.  Using the data, construct the 95% confidence interval for the population proportion of oil tankers that have spills each month. (Round your answers to 3 decimal places)\n",
    "\n",
    "---"
   ]
  },
  {
   "cell_type": "code",
   "execution_count": 387,
   "id": "1d4c4444",
   "metadata": {},
   "outputs": [
    {
     "name": "stdout",
     "output_type": "stream",
     "text": [
      "Proportion of tankers with spills: 0.329\n"
     ]
    }
   ],
   "source": [
    "# sample of tankers: n\n",
    "n = 474\n",
    "# tankers with spills: x1\n",
    "x = 156\n",
    "# proportion of tankers with spills: p\n",
    "p = round(x/n, 3)\n",
    "print(\"Proportion of tankers with spills: {}\".format(p))"
   ]
  },
  {
   "cell_type": "code",
   "execution_count": 388,
   "id": "6101e010",
   "metadata": {},
   "outputs": [
    {
     "name": "stdout",
     "output_type": "stream",
     "text": [
      "The 95% confidence interval is: [0.294, 0.364]\n"
     ]
    }
   ],
   "source": [
    "# z-score: z \n",
    "z = st.norm.ppf(.95)\n",
    "\n",
    "# lower bound: lower\n",
    "lower = round((p-z*np.sqrt(p*(1-p)/n)), 3)\n",
    "\n",
    "# upper bound: upper\n",
    "upper = round((p+z*np.sqrt(p*(1-p)/n)), 3)\n",
    "\n",
    "ci = [lower, upper]\n",
    "print(\"The 95% confidence interval is: {}\".format(ci))"
   ]
  },
  {
   "cell_type": "markdown",
   "id": "2c2ad4da",
   "metadata": {},
   "source": [
    "<b> Answer: </b> 32.9% of tankers have spills each month. The 95% confidence interval is 29.4% - 36.4%"
   ]
  }
 ],
 "metadata": {
  "kernelspec": {
   "display_name": "Python 3 (ipykernel)",
   "language": "python",
   "name": "python3"
  },
  "language_info": {
   "codemirror_mode": {
    "name": "ipython",
    "version": 3
   },
   "file_extension": ".py",
   "mimetype": "text/x-python",
   "name": "python",
   "nbconvert_exporter": "python",
   "pygments_lexer": "ipython3",
   "version": "3.8.12"
  }
 },
 "nbformat": 4,
 "nbformat_minor": 5
}
