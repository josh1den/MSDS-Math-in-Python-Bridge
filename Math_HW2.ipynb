{
 "cells": [
  {
   "cell_type": "markdown",
   "id": "990a4a70",
   "metadata": {},
   "source": [
    "---\n",
    "\n",
    "Write a Python program to compute the eigenvalues and right eigenvectors of a given square array\n",
    "\n",
    "---"
   ]
  },
  {
   "cell_type": "code",
   "execution_count": 63,
   "id": "ed4baeb2",
   "metadata": {},
   "outputs": [
    {
     "name": "stdout",
     "output_type": "stream",
     "text": [
      "(3, 3)\n",
      "[[1 2 3]\n",
      " [4 5 6]\n",
      " [7 8 9]]\n"
     ]
    }
   ],
   "source": [
    "import numpy as np\n",
    "from numpy.linalg import eig\n",
    "from sympy import Symbol, solve\n",
    "# define square array\n",
    "\n",
    "a = np.array([[1,2,3],[4,5,6],[7,8,9]])\n",
    "print(a.shape)\n",
    "print(a)"
   ]
  },
  {
   "cell_type": "code",
   "execution_count": 64,
   "id": "3b66c832",
   "metadata": {},
   "outputs": [
    {
     "name": "stdout",
     "output_type": "stream",
     "text": [
      "[ 1.61168440e+01 -1.11684397e+00 -3.38433605e-16] [[-0.23197069 -0.78583024  0.40824829]\n",
      " [-0.52532209 -0.08675134 -0.81649658]\n",
      " [-0.8186735   0.61232756  0.40824829]]\n"
     ]
    }
   ],
   "source": [
    "# eigenvector equation: Av = λv\n",
    "# A = square matrix\n",
    "# v = eigenvector of the matrix\n",
    "# λ = eigenvalue scalar\n",
    "\n",
    "# factorize\n",
    "values, vectors = eig(a)\n",
    "print(values, vectors)"
   ]
  },
  {
   "cell_type": "code",
   "execution_count": 69,
   "id": "987d3ab1",
   "metadata": {},
   "outputs": [
    {
     "data": {
      "text/plain": [
       "[-1, 13]"
      ]
     },
     "execution_count": 69,
     "metadata": {},
     "output_type": "execute_result"
    }
   ],
   "source": [
    "# manually calculate eigenvalues and eigenvectors\n",
    "# define 2x2 eigenvalue calculator\n",
    "def eigen_2(matrix):\n",
    "    A = matrix\n",
    "    L = Symbol('lambda')\n",
    "    a, b, c, d = A[0,0], A[0,1], A[1,0], A[1,1]\n",
    "    det = (a-L)*(d-L) - (b*c)\n",
    "    eigenvalues = solve(det)\n",
    "    \n",
    "\n",
    "twos = np.matrix(\"7 8; 6 5\")\n",
    "eigen_2(twos)"
   ]
  },
  {
   "cell_type": "code",
   "execution_count": 74,
   "id": "29780c66",
   "metadata": {},
   "outputs": [
    {
     "name": "stdout",
     "output_type": "stream",
     "text": [
      "Built-in return: [13. -1.]\n",
      "Manual return: [-1, 13]\n"
     ]
    }
   ],
   "source": [
    "# check output against eig function\n",
    "values, vectors = eig(twos)\n",
    "print(\"Built-in return:\", values)\n",
    "print(\"Manual return:\", eigen_2(twos))"
   ]
  },
  {
   "cell_type": "code",
   "execution_count": null,
   "id": "22eb1039",
   "metadata": {},
   "outputs": [],
   "source": [
    "# define 2x2 eigenvector calculator\n",
    "# eigenvector equation: Av = λv\n",
    "# v = eigenvector, λ  = eigenvalue"
   ]
  },
  {
   "cell_type": "code",
   "execution_count": 80,
   "id": "51d533e2",
   "metadata": {},
   "outputs": [
    {
     "data": {
      "text/plain": [
       "[-5, 3, 6]"
      ]
     },
     "execution_count": 80,
     "metadata": {},
     "output_type": "execute_result"
    }
   ],
   "source": [
    "# define 3x3 eigenvalue calculator\n",
    "def eigen_3(matrix):\n",
    "    A = matrix\n",
    "    L = Symbol('lambda')\n",
    "    a, b, c = A[0,0], A[0,1], A[0,2]\n",
    "    d, e, f = A[1,0], A[1,1], A[1,2]\n",
    "    g, h, i = A[2,0], A[2,1], A[2,2]\n",
    "    co1 = (a-L)*((e-L)*(i-L)-(f*h))\n",
    "    co2 = b*(d*(i-L)-(f*g))\n",
    "    co3 = c*((d*h)-((e-L)*g))\n",
    "    det = co1 - co2 + co3\n",
    "    return solve(det) # returns a list\n",
    "\n",
    "threes = np.matrix(\"-2 -4 2; -2 1 2; 4 2 5\")\n",
    "eigen_3(threes)"
   ]
  },
  {
   "cell_type": "code",
   "execution_count": 76,
   "id": "9f6619cf",
   "metadata": {},
   "outputs": [
    {
     "name": "stdout",
     "output_type": "stream",
     "text": [
      "Built-in return: [-5.  3.  6.]\n",
      "Manual return: [-5, 3, 6]\n"
     ]
    }
   ],
   "source": [
    "# check output against eig function\n",
    "values, vectors = eig(threes)\n",
    "print(\"Built-in return:\", values)\n",
    "print(\"Manual return:\", eigen_3(threes))"
   ]
  },
  {
   "cell_type": "markdown",
   "id": "beaea6d3",
   "metadata": {},
   "source": [
    "The built-in function returns an array, while the manual functions returns a list. I tried to output an array but I wasn't able to approximate the built-in output. "
   ]
  },
  {
   "cell_type": "markdown",
   "id": "9cda9384",
   "metadata": {},
   "source": [
    "I tried to write add a loop inside the function that would iterate through the length of the output values, substituting the values for Lambda to get the eigenvectors, but I a) could get this loop to work outside, but not inside, the function, and it also didn't match the output from eig:"
   ]
  },
  {
   "cell_type": "code",
   "execution_count": null,
   "id": "88e7f0d6",
   "metadata": {},
   "outputs": [],
   "source": [
    "for i in range(len(values)):\n",
    "    vec = (a-values[i])*(d-values[i]) - (b*c)\n",
    "    vectors.append(vec)\n",
    "    \n",
    "return values, vectors"
   ]
  },
  {
   "cell_type": "markdown",
   "id": "cb2b847b",
   "metadata": {},
   "source": [
    "I tried to create an identity matrix to multiply against the Matrix minus Lambda in order to solve for x in:\n",
    "(A - lambda * I) * x = 0, but I could not solve this either."
   ]
  },
  {
   "cell_type": "code",
   "execution_count": 144,
   "id": "aa177684",
   "metadata": {},
   "outputs": [],
   "source": [
    "# create an identity matrix\n",
    "def identity_m(size):\n",
    "    # create an identity matrix of desired size\n",
    "    I = np.zeros((size, size))\n",
    "    for i in range(size):\n",
    "        I[i][i] = 1\n",
    "        \n",
    "    return I"
   ]
  },
  {
   "cell_type": "markdown",
   "id": "67ce5ec3",
   "metadata": {},
   "source": [
    "Then I was able to get as far as the below loop but I wasn't able to figure out how to reduce the matrices:"
   ]
  },
  {
   "cell_type": "markdown",
   "id": "5459356b",
   "metadata": {},
   "source": [
    "```\n",
    "vecs = []\n",
    "\n",
    "for i in range(len(values)):\n",
    "    vec = A - values[i]*I\n",
    "    vecs.append(vec)\n",
    "```"
   ]
  },
  {
   "cell_type": "markdown",
   "id": "2ab153fa",
   "metadata": {},
   "source": [
    "I could not return the eigenvectors"
   ]
  },
  {
   "cell_type": "markdown",
   "id": "766579a3",
   "metadata": {},
   "source": [
    "---\n",
    "Write a Python program to compute the factor of a given array by Singular Value Decomposition\n",
    "\n",
    "---"
   ]
  },
  {
   "cell_type": "code",
   "execution_count": 22,
   "id": "85f5a130",
   "metadata": {},
   "outputs": [
    {
     "name": "stdout",
     "output_type": "stream",
     "text": [
      "[[-0.21483724  0.88723069  0.40824829]\n",
      " [-0.52058739  0.24964395 -0.81649658]\n",
      " [-0.82633754 -0.38794278  0.40824829]] [1.68481034e+01 1.06836951e+00 3.33475287e-16] [[-0.47967118 -0.57236779 -0.66506441]\n",
      " [-0.77669099 -0.07568647  0.62531805]\n",
      " [-0.40824829  0.81649658 -0.40824829]]\n"
     ]
    }
   ],
   "source": [
    "from scipy.linalg import svd\n",
    "\n",
    "# factorize\n",
    "\n",
    "U, s, V = svd(a)\n",
    "print(U, s, V)"
   ]
  },
  {
   "cell_type": "markdown",
   "id": "25e5f53f",
   "metadata": {},
   "source": [
    "---\n",
    "Write a Python program to compute the determinant of an array\n",
    "\n",
    "---"
   ]
  },
  {
   "cell_type": "code",
   "execution_count": 85,
   "id": "bfc5e0e9",
   "metadata": {},
   "outputs": [
    {
     "name": "stdout",
     "output_type": "stream",
     "text": [
      "Determinant: -9.51619735392994e-16\n"
     ]
    }
   ],
   "source": [
    "# determinant of the matrix\n",
    "# product of all the eigenvalues of the matrix\n",
    "\n",
    "from numpy.linalg import det\n",
    "\n",
    "#initialize matrix\n",
    "a = np.arange(1,10).reshape(3,3)\n",
    "\n",
    "# calculate determinant\n",
    "B = det(a)\n",
    "print(\"Determinant:\", B)"
   ]
  },
  {
   "cell_type": "code",
   "execution_count": 23,
   "id": "73463ef2",
   "metadata": {},
   "outputs": [
    {
     "data": {
      "text/plain": [
       "-9.51619735392994e-16"
      ]
     },
     "execution_count": 23,
     "metadata": {},
     "output_type": "execute_result"
    }
   ],
   "source": [
    "det(a)"
   ]
  },
  {
   "cell_type": "code",
   "execution_count": 88,
   "id": "4f3f2eac",
   "metadata": {},
   "outputs": [
    {
     "data": {
      "text/plain": [
       "array([[1, 2, 3],\n",
       "       [4, 5, 6],\n",
       "       [7, 8, 9]])"
      ]
     },
     "execution_count": 88,
     "metadata": {},
     "output_type": "execute_result"
    }
   ],
   "source": [
    "# examine the array\n",
    "a"
   ]
  },
  {
   "cell_type": "code",
   "execution_count": 89,
   "id": "211743fa",
   "metadata": {},
   "outputs": [
    {
     "data": {
      "text/plain": [
       "-9.51619735392994e-16"
      ]
     },
     "execution_count": 89,
     "metadata": {},
     "output_type": "execute_result"
    }
   ],
   "source": [
    "# try using np.matrix to see if the output is the same\n",
    "a = np.matrix(\"1 2 3; 4 5 6; 7 8 9\")\n",
    "det(a)"
   ]
  },
  {
   "cell_type": "code",
   "execution_count": 90,
   "id": "c9e571a0",
   "metadata": {},
   "outputs": [
    {
     "data": {
      "text/plain": [
       "matrix([[1, 2, 3],\n",
       "        [4, 5, 6],\n",
       "        [7, 8, 9]])"
      ]
     },
     "execution_count": 90,
     "metadata": {},
     "output_type": "execute_result"
    }
   ],
   "source": [
    "# examine the matrix\n",
    "a"
   ]
  },
  {
   "cell_type": "code",
   "execution_count": 91,
   "id": "79eb3f8e",
   "metadata": {},
   "outputs": [
    {
     "data": {
      "text/plain": [
       "0"
      ]
     },
     "execution_count": 91,
     "metadata": {},
     "output_type": "execute_result"
    }
   ],
   "source": [
    "# manually perform the caluclation:\n",
    "\n",
    "# variable1 (v1) = a(ei - fh)\n",
    "v1 = 1 * (5*9 - 6*8)\n",
    "# variable2 (v2) = b(di - fg)\n",
    "v2 = 2 * (4*9 - 6*7)\n",
    "# variable3 (v3) = c(dh - eg) \n",
    "v3 = 3 * (4*8 - 5*7)\n",
    "\n",
    "# a(ei - fh) - b(di - fg) + c(dh - eg)\n",
    "v1 - v2 + v3"
   ]
  },
  {
   "cell_type": "markdown",
   "id": "c8c05234",
   "metadata": {},
   "source": [
    "Despite substantial research, I can not resolve why there is this discrepency in the outputs. I tried building matrix calculators to handle a 2x2 matrix, a 3x3 matrix, and then to break down larger matrices into 3x3 matrices."
   ]
  },
  {
   "cell_type": "code",
   "execution_count": 139,
   "id": "e53e753f",
   "metadata": {},
   "outputs": [],
   "source": [
    "def det_2(matrix):\n",
    "    # calculates determinant of a 2x2 matrix\n",
    "    if matrix.shape[1] == 2:\n",
    "        a, b, c, d = matrix[0,0], matrix[0,1], matrix[1,0], matrix[1,1]\n",
    "        A = float(a*d - b*c)\n",
    "        return(A)\n",
    "    else:\n",
    "        print(\"Not a 2x2 matrix\")\n",
    "\n",
    "def det_3(matrix):\n",
    "    # calculates determinant of a 3x3 matrix       \n",
    "    if matrix.shape[1] == 3:\n",
    "        a, b, c, d, e = matrix[0,0], matrix[0,1], matrix[0,2], matrix[1,0], matrix[1,1]\n",
    "        f, g, h, i = matrix[1,2], matrix[2,0], matrix[2,1], matrix[2,2] \n",
    "        #d1 = float(e*i - f*h)\n",
    "        #d2 = float(d*i - f*g)\n",
    "        #d3 = float(d*h - e*g)\n",
    "        #A = float(a*d1 - b*d2 + c*d3)\n",
    "        A = float(a*e*i + b*f*g + c*d*h - c*e*g - b*d*i - a*f*h)\n",
    "        return(A)\n",
    "    else:\n",
    "        print(\"not a 3x3 matrix\")\n",
    "        \n",
    "def deter(matrix):\n",
    "    # calculates determinant of any matrix\n",
    "    total = 0\n",
    "    if matrix.shape[1] == 2:\n",
    "        det_2(matrix) # use 2x2 function\n",
    "    elif matrix.shape[1] == 3:\n",
    "        det_3(matrix) # use 3x3 function\n",
    "    else:\n",
    "        # store dimension of matrix: dim\n",
    "        dim = matrix.shape[1]\n",
    "        # initialize list of return values\n",
    "        vals = []\n",
    "        for i in range(0, dim):\n",
    "            coeff = matrix[0,i] # pull coefficient from the root value\n",
    "            new_matrix = np.delete(matrix, i, 0) # create new matrix without root row\n",
    "            new_matrix = np.delete(new_matrix, i, 1) # remove root column from new matrix\n",
    "            val = (det_3(new_matrix)) # perform 3d determinant calculation off the new matrix\n",
    "            vals.append(val * coeff) # multiply by coefficient and append to value list\n",
    "         \n",
    "        # initialize total variable\n",
    "        for i in range(len(vals)):\n",
    "            if i % 2 == 0:\n",
    "                total += vals[i]\n",
    "            else:\n",
    "                total -= vals[i]\n",
    "                \n",
    "        return total\n",
    "            \n",
    "    \n",
    "        "
   ]
  },
  {
   "cell_type": "code",
   "execution_count": 92,
   "id": "4b6445a6",
   "metadata": {},
   "outputs": [],
   "source": [
    "#initialize 2x2, 3x3, and 4x4 matrices\n",
    "from numpy import random\n",
    "\n",
    "# 2x2\n",
    "m2 = np.random.randint(1, 100, size=[2,2])\n",
    "\n",
    "# 3x3\n",
    "m3 = np.random.randint(1, 100, size=[3,3])\n",
    "\n",
    "# 4x4\n",
    "m4 = np.random.randint(1, 100, size=[4,4])"
   ]
  },
  {
   "cell_type": "code",
   "execution_count": 93,
   "id": "5f971e63",
   "metadata": {},
   "outputs": [
    {
     "data": {
      "text/plain": [
       "array([[ 1, 89],\n",
       "       [60, 77]])"
      ]
     },
     "execution_count": 93,
     "metadata": {},
     "output_type": "execute_result"
    }
   ],
   "source": [
    "m2"
   ]
  },
  {
   "cell_type": "code",
   "execution_count": 94,
   "id": "feb4e661",
   "metadata": {},
   "outputs": [
    {
     "data": {
      "text/plain": [
       "array([[49, 10, 83],\n",
       "       [48, 18, 75],\n",
       "       [69, 24, 78]])"
      ]
     },
     "execution_count": 94,
     "metadata": {},
     "output_type": "execute_result"
    }
   ],
   "source": [
    "m3"
   ]
  },
  {
   "cell_type": "code",
   "execution_count": 95,
   "id": "0cc2dae6",
   "metadata": {},
   "outputs": [
    {
     "data": {
      "text/plain": [
       "array([[70,  8, 31, 98],\n",
       "       [77, 46, 69, 52],\n",
       "       [34, 83, 27, 60],\n",
       "       [46,  3, 21, 21]])"
      ]
     },
     "execution_count": 95,
     "metadata": {},
     "output_type": "execute_result"
    }
   ],
   "source": [
    "m4"
   ]
  },
  {
   "cell_type": "code",
   "execution_count": 98,
   "id": "e474d470",
   "metadata": {},
   "outputs": [
    {
     "name": "stdout",
     "output_type": "stream",
     "text": [
      "manual: -5263.0\n",
      "built-in: -5262.9999999999945\n"
     ]
    }
   ],
   "source": [
    "# 2x2 determinant calculation\n",
    "print(\"manual:\", det_2(m2))\n",
    "print(\"built-in:\", det(m2))"
   ]
  },
  {
   "cell_type": "code",
   "execution_count": 99,
   "id": "381d9fc1",
   "metadata": {},
   "outputs": [
    {
     "name": "stdout",
     "output_type": "stream",
     "text": [
      "manual: -12564.0\n",
      "built-in: -12564.000000000007\n"
     ]
    }
   ],
   "source": [
    "# 3x3 determinant calculation\n",
    "print(\"manual:\", det_3(m3))\n",
    "print(\"built-in:\", det(m3))"
   ]
  },
  {
   "cell_type": "code",
   "execution_count": 141,
   "id": "522d1940",
   "metadata": {},
   "outputs": [
    {
     "name": "stdout",
     "output_type": "stream",
     "text": [
      "manual: 8680170.0\n",
      "built-in: 6650274.999999999\n"
     ]
    }
   ],
   "source": [
    "# 4x4 determinant calculationdeter(m4)\n",
    "print(\"manual:\", deter(m4))\n",
    "print(\"built-in:\", det(m4))"
   ]
  },
  {
   "cell_type": "markdown",
   "id": "a9e6242b",
   "metadata": {},
   "source": [
    "I thought if I built a function that would perform the 3x3 matrix determinant calculation on each column of the larger matrices and then perform the cumulative calculation on those values, I could find the determinant of larger matrices, but as you can see, that doesn't work. "
   ]
  },
  {
   "cell_type": "markdown",
   "id": "f7ec4a59",
   "metadata": {},
   "source": [
    "I also tried to check my 3x3 determinant against the product of the eigenvalues for the same 3x3 matrix, but got a different result:"
   ]
  },
  {
   "cell_type": "code",
   "execution_count": 143,
   "id": "d2d976d3",
   "metadata": {},
   "outputs": [
    {
     "data": {
      "text/latex": [
       "$\\displaystyle \\left(\\frac{145}{3} + \\left(- \\frac{1}{2} - \\frac{\\sqrt{3} i}{2}\\right) \\sqrt[3]{\\frac{8236217}{54} + \\frac{\\sqrt{104811600063} i}{6}} + \\frac{26722}{9 \\left(- \\frac{1}{2} - \\frac{\\sqrt{3} i}{2}\\right) \\sqrt[3]{\\frac{8236217}{54} + \\frac{\\sqrt{104811600063} i}{6}}}\\right) \\left(\\frac{145}{3} + \\frac{26722}{9 \\left(- \\frac{1}{2} + \\frac{\\sqrt{3} i}{2}\\right) \\sqrt[3]{\\frac{8236217}{54} + \\frac{\\sqrt{104811600063} i}{6}}} + \\left(- \\frac{1}{2} + \\frac{\\sqrt{3} i}{2}\\right) \\sqrt[3]{\\frac{8236217}{54} + \\frac{\\sqrt{104811600063} i}{6}}\\right) \\left(\\frac{145}{3} + \\frac{26722}{9 \\sqrt[3]{\\frac{8236217}{54} + \\frac{\\sqrt{104811600063} i}{6}}} + \\sqrt[3]{\\frac{8236217}{54} + \\frac{\\sqrt{104811600063} i}{6}}\\right)$"
      ],
      "text/plain": [
       "(145/3 + (-1/2 - sqrt(3)*I/2)*(8236217/54 + sqrt(104811600063)*I/6)**(1/3) + 26722/(9*(-1/2 - sqrt(3)*I/2)*(8236217/54 + sqrt(104811600063)*I/6)**(1/3)))*(145/3 + 26722/(9*(-1/2 + sqrt(3)*I/2)*(8236217/54 + sqrt(104811600063)*I/6)**(1/3)) + (-1/2 + sqrt(3)*I/2)*(8236217/54 + sqrt(104811600063)*I/6)**(1/3))*(145/3 + 26722/(9*(8236217/54 + sqrt(104811600063)*I/6)**(1/3)) + (8236217/54 + sqrt(104811600063)*I/6)**(1/3))"
      ]
     },
     "execution_count": 143,
     "metadata": {},
     "output_type": "execute_result"
    }
   ],
   "source": [
    "det_three = np.prod(eigen_3(m3))\n",
    "det_three"
   ]
  },
  {
   "cell_type": "code",
   "execution_count": 92,
   "id": "66721e37",
   "metadata": {},
   "outputs": [],
   "source": [
    "# this is simply a scratchpad of a way I discarded to represent matrix positions, decided to leave it here to \n",
    "# show one of many different ways I tried to represent the determinant formula\n",
    "a, b, c, d, e = matrix[0,0], matrix[0,1], matrix[0,2], matrix[1,0], matrix[1,1]\n",
    "f, g, h, i = matrix[1,2], matrix[2,0], matrix[2,1], matrix[2,2] \n",
    "d1 = float((e * i) - (f * h))\n",
    "d2 = float((d * i) - (g * h))\n",
    "d3 = float((d * h) - (e * g))\n",
    "A = float(abs((a * d1) - (b * d2) + (c * d3)))"
   ]
  },
  {
   "cell_type": "markdown",
   "id": "ff1c8074",
   "metadata": {},
   "source": [
    "I could not return the determinant for matrices 4x4 or larger"
   ]
  },
  {
   "cell_type": "code",
   "execution_count": null,
   "id": "ac6fb226",
   "metadata": {},
   "outputs": [],
   "source": []
  }
 ],
 "metadata": {
  "kernelspec": {
   "display_name": "Python 3 (ipykernel)",
   "language": "python",
   "name": "python3"
  },
  "language_info": {
   "codemirror_mode": {
    "name": "ipython",
    "version": 3
   },
   "file_extension": ".py",
   "mimetype": "text/x-python",
   "name": "python",
   "nbconvert_exporter": "python",
   "pygments_lexer": "ipython3",
   "version": "3.8.12"
  }
 },
 "nbformat": 4,
 "nbformat_minor": 5
}
